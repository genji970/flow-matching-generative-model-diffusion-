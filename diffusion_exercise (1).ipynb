{
  "nbformat": 4,
  "nbformat_minor": 0,
  "metadata": {
    "colab": {
      "provenance": [],
      "gpuType": "A100"
    },
    "kernelspec": {
      "name": "python3",
      "display_name": "Python 3"
    },
    "language_info": {
      "name": "python"
    },
    "accelerator": "GPU"
  },
  "cells": [
    {
      "cell_type": "code",
      "source": [
        "!pip install torchdiffeq"
      ],
      "metadata": {
        "id": "yd2muq9yjyS7"
      },
      "execution_count": null,
      "outputs": []
    },
    {
      "cell_type": "code",
      "source": [
        "import torch\n",
        "print(torch.cuda.is_available())   # True여야 GPU 사용 가능\n",
        "print(torch.cuda.device_count())   # GPU 개수\n",
        "print(torch.cuda.get_device_name(0) if torch.cuda.is_available() else \"No GPU\")"
      ],
      "metadata": {
        "colab": {
          "base_uri": "https://localhost:8080/"
        },
        "id": "ZNvjknzAj9o6",
        "outputId": "aaa3dbbc-98c5-4cab-dd7c-796427c3fedb"
      },
      "execution_count": 2,
      "outputs": [
        {
          "output_type": "stream",
          "name": "stdout",
          "text": [
            "True\n",
            "1\n",
            "NVIDIA A100-SXM4-40GB\n"
          ]
        }
      ]
    },
    {
      "cell_type": "code",
      "source": [
        "import torch\n",
        "import random\n",
        "import numpy as np\n",
        "\n",
        "def set_seed(seed=42):\n",
        "    random.seed(seed)                  # Python random 고정\n",
        "    np.random.seed(seed)               # Numpy random 고정\n",
        "    torch.manual_seed(seed)            # PyTorch CPU 고정\n",
        "    torch.cuda.manual_seed(seed)       # PyTorch GPU 단일 고정\n",
        "\n",
        "    # 연산 재현성 보장 (속도는 약간 손해봄)\n",
        "    torch.backends.cudnn.deterministic = True\n",
        "    torch.backends.cudnn.benchmark = False\n",
        "\n",
        "set_seed(42)"
      ],
      "metadata": {
        "id": "XToncjsgw2s7"
      },
      "execution_count": null,
      "outputs": []
    },
    {
      "cell_type": "code",
      "source": [
        "import os\n",
        "import torch.nn as nn\n",
        "import torch.nn.functional as F\n",
        "import torch.optim as optim\n",
        "from torchvision import datasets, transforms\n",
        "from torch.utils.data import DataLoader, Subset\n",
        "import matplotlib.pyplot as plt\n",
        "\n",
        "transform = transforms.Compose([\n",
        "    transforms.ToTensor(),\n",
        "    transforms.Normalize((0.5,), (0.5,)),  # [-1,1] 범위\n",
        "    #transforms.Lambda(lambda x: x.view(-1))\n",
        "])\n",
        "\n",
        "train_dataset = datasets.CIFAR10(root=\"./data\", train=True, download=True, transform=transform)\n",
        "subset = Subset(train_dataset, range(1000))\n",
        "train_loader = DataLoader(subset, batch_size=4, shuffle=True)\n",
        "\n",
        "val_dataset = datasets.CIFAR10(root=\"./data\", train=False, download=True, transform=transform)\n",
        "val_subset = Subset(val_dataset, range(500))\n",
        "val_loader = DataLoader(val_subset, batch_size=4, shuffle=False)\n",
        "\n",
        "dim = 32*32*3  # 3072\n",
        "\n",
        "# --------------------------------------\n",
        "# 2. 벡터장 모델\n",
        "# --------------------------------------\n",
        "# CNN 기반 Vector Field\n",
        "class ConvVectorField(nn.Module):\n",
        "    def __init__(self, hidden_dim=32):\n",
        "        super().__init__()\n",
        "        # Encoder\n",
        "        self.conv1 = nn.Conv2d(3+1, hidden_dim, 3, stride=1, padding=1)\n",
        "        self.conv2 = nn.Conv2d(hidden_dim, hidden_dim, 3, stride=2, padding=1)\n",
        "        self.conv3 = nn.Conv2d(hidden_dim, hidden_dim*2, 3, stride=2, padding=1)\n",
        "\n",
        "        # Bottleneck\n",
        "        self.res1 = nn.Conv2d(hidden_dim*2, hidden_dim*2, 3, padding=1)\n",
        "        self.res2 = nn.Conv2d(hidden_dim*2, hidden_dim*2, 3, padding=1)\n",
        "\n",
        "        # Decoder\n",
        "        self.deconv1 = nn.ConvTranspose2d(hidden_dim*2, hidden_dim*2, 4, stride=2, padding=1)\n",
        "        self.deconv2 = nn.ConvTranspose2d(hidden_dim*2, hidden_dim, 4, stride=2, padding=1)\n",
        "        self.conv_out = nn.Conv2d(hidden_dim, 3, 3, stride=1, padding=1)\n",
        "\n",
        "    def forward(self, x, t):\n",
        "        # x: (B, 3, 32, 32), t: (B,1)\n",
        "        B, _, H, W = x.shape\n",
        "        xt = torch.cat([x, t], dim=1)         # (B, 4, 32, 32)\n",
        "\n",
        "        # Encoder\n",
        "        h = F.relu(self.conv1(xt))\n",
        "        h = F.relu(self.conv2(h))\n",
        "        h = F.relu(self.conv3(h))\n",
        "\n",
        "        # Bottleneck (Residual style)\n",
        "        h = F.relu(self.res1(h)) + h\n",
        "        h = F.relu(self.res2(h)) + h\n",
        "\n",
        "        # Decoder\n",
        "        h = F.relu(self.deconv1(h))\n",
        "        h = F.relu(self.deconv2(h))\n",
        "        out = self.conv_out(h)   # (B,3,32,32)\n",
        "        return out\n",
        "\n",
        "\n",
        "# --------------------------------------\n",
        "# 3. Flow Matching Loss\n",
        "# --------------------------------------\n",
        "def flow_matching_loss(model, x0, x1, t):\n",
        "    xt = (1 - t) * x0 + t * x1   # (B,3,32,32)\n",
        "    ut_target = x1 - x0\n",
        "    input_t = t.mean(dim=1, keepdim=True)\n",
        "    ut_pred = model(xt, input_t)       # CNN 결과도 (B,3,32,32)\n",
        "    return ((ut_pred - ut_target) ** 2).mean()\n",
        "\n",
        "# --------------------------------------\n",
        "# 4. 학습 루프\n",
        "# --------------------------------------\n",
        "device = \"cuda\" if torch.cuda.is_available() else \"cpu\"\n",
        "model = ConvVectorField(dim).to(device)\n",
        "optimizer = optim.Adam(model.parameters(), lr=1e-5)\n",
        "\n",
        "epochs = 100\n",
        "losses = []\n",
        "val_losses = []\n",
        "accumulation_steps = 4\n",
        "\n",
        "checkpoint_dir = \"./checkpoints\"\n",
        "os.makedirs(checkpoint_dir, exist_ok=True)\n",
        "\n",
        "for epoch in range(epochs):\n",
        "    for batch_idx, (images, _) in enumerate(train_loader):\n",
        "        x1 = images.to(device)                    # target = CIFAR image\n",
        "        x0 = torch.randn_like(x1).to(device)      # source = Gaussian\n",
        "        t = torch.rand(x1.shape[0], 1).to(device)     # time ∈ [0,1]\n",
        "        t = t.view(-1, 1, 1, 1).expand(-1, x1.shape[1], x1.shape[2], x1.shape[3])\n",
        "\n",
        "        loss = flow_matching_loss(model, x0, x1, t)\n",
        "\n",
        "        loss = loss / accumulation_steps\n",
        "        loss.backward()\n",
        "\n",
        "        # 🔹 일정 step마다 optimizer 갱신\n",
        "        if (batch_idx + 1) % accumulation_steps == 0:\n",
        "            optimizer.step()\n",
        "            optimizer.zero_grad()\n",
        "\n",
        "    losses.append(loss.item())\n",
        "\n",
        "    # ---- Validation ----\n",
        "    model.eval()\n",
        "    val_running_loss = 0.0\n",
        "    with torch.no_grad():\n",
        "        for images, _ in val_loader:\n",
        "            x1 = images.to(device)\n",
        "            x0 = torch.randn_like(x1).to(device)\n",
        "            t = torch.rand(x1.shape[0], 1).to(device)\n",
        "            t = t.view(-1, 1, 1, 1).expand(-1, x1.shape[1], x1.shape[2], x1.shape[3])\n",
        "            val_loss = flow_matching_loss(model, x0, x1, t)\n",
        "            val_running_loss += val_loss.item()\n",
        "\n",
        "    avg_val_loss = val_running_loss / len(val_loader)\n",
        "    val_losses.append(avg_val_loss)\n",
        "\n",
        "    print(f\"Epoch {epoch+1}, Loss: {loss.item():.4f}\")\n",
        "\n",
        "    # 🔹 Best checkpoint 저장 (val_loss 기준)\n",
        "    if epoch == 0:\n",
        "        best_val_loss = avg_val_loss\n",
        "\n",
        "    if avg_val_loss < best_val_loss:\n",
        "        best_val_loss = avg_val_loss\n",
        "        ckpt_path = os.path.join(checkpoint_dir, \"best_model.pth\")\n",
        "        torch.save({\n",
        "        \"epoch\": epoch+1,\n",
        "        \"model_state_dict\": model.state_dict(),\n",
        "        \"optimizer_state_dict\": optimizer.state_dict(),\n",
        "        \"loss\": loss.item(),\n",
        "        \"val_loss\": avg_val_loss,\n",
        "        }, ckpt_path)\n",
        "        print(f\"✅ Best model updated at epoch {epoch+1} | Val Loss: {avg_val_loss:.4f}\")\n",
        "\n",
        "# Loss 곡선 그리기\n",
        "plt.plot(losses, label=\"Train Loss\")\n",
        "plt.plot(val_losses, label=\"Val Loss\")\n",
        "plt.xlabel(\"Epoch\")\n",
        "plt.ylabel(\"Loss\")\n",
        "plt.title(\"Training & Validation Loss Curve\")\n",
        "plt.legend()\n",
        "plt.show()"
      ],
      "metadata": {
        "colab": {
          "base_uri": "https://localhost:8080/",
          "height": 679
        },
        "id": "P4iYdNXvjyy7",
        "outputId": "0d387976-636f-4cdb-85d1-3935d0a0dc67"
      },
      "execution_count": 3,
      "outputs": [
        {
          "output_type": "stream",
          "name": "stderr",
          "text": [
            "100%|██████████| 170M/170M [00:13<00:00, 12.8MB/s]\n"
          ]
        },
        {
          "output_type": "stream",
          "name": "stdout",
          "text": [
            "Epoch 1, Loss: 1.1818\n",
            "Epoch 2, Loss: 0.7926\n",
            "✅ Best model updated at epoch 2 | Val Loss: 0.6285\n",
            "Epoch 3, Loss: 0.5847\n",
            "✅ Best model updated at epoch 3 | Val Loss: 0.3663\n",
            "Epoch 4, Loss: 0.3998\n",
            "✅ Best model updated at epoch 4 | Val Loss: 0.3316\n",
            "Epoch 5, Loss: 0.4386\n",
            "✅ Best model updated at epoch 5 | Val Loss: 0.3069\n",
            "Epoch 6, Loss: 0.2632\n",
            "✅ Best model updated at epoch 6 | Val Loss: 0.2867\n",
            "Epoch 7, Loss: 0.2128\n",
            "✅ Best model updated at epoch 7 | Val Loss: 0.2782\n",
            "Epoch 8, Loss: 0.3029\n",
            "Epoch 9, Loss: 0.1999\n",
            "✅ Best model updated at epoch 9 | Val Loss: 0.2772\n",
            "Epoch 10, Loss: 0.2335\n",
            "✅ Best model updated at epoch 10 | Val Loss: 0.2652\n",
            "Epoch 11, Loss: 0.2934\n",
            "Epoch 12, Loss: 0.1768\n",
            "✅ Best model updated at epoch 12 | Val Loss: 0.2498\n",
            "Epoch 13, Loss: 0.1870\n",
            "✅ Best model updated at epoch 13 | Val Loss: 0.2494\n",
            "Epoch 14, Loss: 0.2417\n",
            "Epoch 15, Loss: 0.2165\n",
            "Epoch 16, Loss: 0.2065\n"
          ]
        },
        {
          "output_type": "error",
          "ename": "KeyboardInterrupt",
          "evalue": "",
          "traceback": [
            "\u001b[0;31m---------------------------------------------------------------------------\u001b[0m",
            "\u001b[0;31mKeyboardInterrupt\u001b[0m                         Traceback (most recent call last)",
            "\u001b[0;32m/tmp/ipython-input-1957317036.py\u001b[0m in \u001b[0;36m<cell line: 0>\u001b[0;34m()\u001b[0m\n\u001b[1;32m     96\u001b[0m \u001b[0;32mfor\u001b[0m \u001b[0mepoch\u001b[0m \u001b[0;32min\u001b[0m \u001b[0mrange\u001b[0m\u001b[0;34m(\u001b[0m\u001b[0mepochs\u001b[0m\u001b[0;34m)\u001b[0m\u001b[0;34m:\u001b[0m\u001b[0;34m\u001b[0m\u001b[0;34m\u001b[0m\u001b[0m\n\u001b[1;32m     97\u001b[0m     \u001b[0;32mfor\u001b[0m \u001b[0mbatch_idx\u001b[0m\u001b[0;34m,\u001b[0m \u001b[0;34m(\u001b[0m\u001b[0mimages\u001b[0m\u001b[0;34m,\u001b[0m \u001b[0m_\u001b[0m\u001b[0;34m)\u001b[0m \u001b[0;32min\u001b[0m \u001b[0menumerate\u001b[0m\u001b[0;34m(\u001b[0m\u001b[0mtrain_loader\u001b[0m\u001b[0;34m)\u001b[0m\u001b[0;34m:\u001b[0m\u001b[0;34m\u001b[0m\u001b[0;34m\u001b[0m\u001b[0m\n\u001b[0;32m---> 98\u001b[0;31m         \u001b[0mx1\u001b[0m \u001b[0;34m=\u001b[0m \u001b[0mimages\u001b[0m\u001b[0;34m.\u001b[0m\u001b[0mto\u001b[0m\u001b[0;34m(\u001b[0m\u001b[0mdevice\u001b[0m\u001b[0;34m)\u001b[0m                    \u001b[0;31m# target = CIFAR image\u001b[0m\u001b[0;34m\u001b[0m\u001b[0;34m\u001b[0m\u001b[0m\n\u001b[0m\u001b[1;32m     99\u001b[0m         \u001b[0mx0\u001b[0m \u001b[0;34m=\u001b[0m \u001b[0mtorch\u001b[0m\u001b[0;34m.\u001b[0m\u001b[0mrandn_like\u001b[0m\u001b[0;34m(\u001b[0m\u001b[0mx1\u001b[0m\u001b[0;34m)\u001b[0m\u001b[0;34m.\u001b[0m\u001b[0mto\u001b[0m\u001b[0;34m(\u001b[0m\u001b[0mdevice\u001b[0m\u001b[0;34m)\u001b[0m      \u001b[0;31m# source = Gaussian\u001b[0m\u001b[0;34m\u001b[0m\u001b[0;34m\u001b[0m\u001b[0m\n\u001b[1;32m    100\u001b[0m         \u001b[0mt\u001b[0m \u001b[0;34m=\u001b[0m \u001b[0mtorch\u001b[0m\u001b[0;34m.\u001b[0m\u001b[0mrand\u001b[0m\u001b[0;34m(\u001b[0m\u001b[0mx1\u001b[0m\u001b[0;34m.\u001b[0m\u001b[0mshape\u001b[0m\u001b[0;34m[\u001b[0m\u001b[0;36m0\u001b[0m\u001b[0;34m]\u001b[0m\u001b[0;34m,\u001b[0m \u001b[0;36m1\u001b[0m\u001b[0;34m)\u001b[0m\u001b[0;34m.\u001b[0m\u001b[0mto\u001b[0m\u001b[0;34m(\u001b[0m\u001b[0mdevice\u001b[0m\u001b[0;34m)\u001b[0m     \u001b[0;31m# time ∈ [0,1]\u001b[0m\u001b[0;34m\u001b[0m\u001b[0;34m\u001b[0m\u001b[0m\n",
            "\u001b[0;31mKeyboardInterrupt\u001b[0m: "
          ]
        }
      ]
    },
    {
      "cell_type": "code",
      "source": [
        "test_dataset = datasets.CIFAR10(root=\"./data\", train=False, download=True, transform=transform)\n",
        "test_loader = DataLoader(test_dataset, batch_size=32, shuffle=False)\n",
        "\n",
        "model.eval()\n",
        "with torch.no_grad():\n",
        "    total_loss = 0\n",
        "    count = 0\n",
        "    for images, _ in test_loader:\n",
        "        x1 = images.to(device)\n",
        "        x0 = torch.randn_like(x1).to(device)\n",
        "        t = torch.rand(len(x1), 1).to(device)\n",
        "        t = t.view(-1, 1, 1, 1).expand(-1, x1.shape[1], x1.shape[2], x1.shape[3])\n",
        "\n",
        "        loss = flow_matching_loss(model, x0, x1, t)\n",
        "        total_loss += loss.item() * len(x1)\n",
        "        count += len(x1)\n",
        "    print(\"Test Loss:\", total_loss / count)"
      ],
      "metadata": {
        "id": "o5_LWacQH0_B",
        "colab": {
          "base_uri": "https://localhost:8080/"
        },
        "outputId": "0f2b5c7e-bd4c-4218-ebbe-67449c2daa07"
      },
      "execution_count": 4,
      "outputs": [
        {
          "output_type": "stream",
          "name": "stdout",
          "text": [
            "Test Loss: 0.25423524105548856\n"
          ]
        }
      ]
    },
    {
      "cell_type": "code",
      "source": [
        "from torchdiffeq import odeint\n",
        "\n",
        "def sample_images(model, n_samples=16, steps=20, device=\"cuda\"):\n",
        "    model.eval()\n",
        "    with torch.no_grad():\n",
        "        x = torch.randn(n_samples, 3, 32, 32).to(device)\n",
        "\n",
        "        def ode_func(t, x_flat):\n",
        "            x = x_flat.view(n_samples, 3, 32, 32)\n",
        "            t_tensor = torch.full((n_samples,1), t.item(), device=device)\n",
        "            t_tensor = t_tensor.view(-1,1,1,1).expand(x.shape[0],1,x.shape[2],x.shape[3])\n",
        "            dx = model(x, t_tensor)   # (B,3,32,32)\n",
        "            return dx.view(-1)        # flatten\n",
        "\n",
        "        ts = torch.linspace(0,1,steps).to(device)\n",
        "        x_final = odeint(ode_func, x.view(-1), ts)\n",
        "        x_final = x_final[-1].view(n_samples, 3, 32, 32)\n",
        "\n",
        "    return x_final.cpu()\n",
        "\n",
        "import matplotlib.pyplot as plt\n",
        "samples = sample_images(model, n_samples=8)\n",
        "\n",
        "fig, axes = plt.subplots(1, 8, figsize=(16,2))\n",
        "for i, ax in enumerate(axes):\n",
        "    img = samples[i].permute(1,2,0).numpy()\n",
        "    img = (img - img.min())/(img.max()-img.min())  # normalize to [0,1]\n",
        "    ax.imshow(img)\n",
        "    ax.axis(\"off\")\n",
        "plt.show()"
      ],
      "metadata": {
        "id": "3NWJdRPxIE64",
        "colab": {
          "base_uri": "https://localhost:8080/",
          "height": 168
        },
        "outputId": "75a2f9b0-543d-40de-fe80-769bf06ba3d5"
      },
      "execution_count": 5,
      "outputs": [
        {
          "output_type": "display_data",
          "data": {
            "text/plain": [
              "<Figure size 1600x200 with 8 Axes>"
            ],
            "image/png": "[encoded data removed]"
          },
          "metadata": {}
        }
      ]
    },
    {
      "cell_type": "markdown",
      "source": [
        "# **Model load**"
      ],
      "metadata": {
        "id": "LScTRSGKkujB"
      }
    },
    {
      "cell_type": "code",
      "source": [
        "ckpt = torch.load(\"./checkpoints/checkpoint_epoch_100.pth\", map_location=device)\n",
        "\n",
        "model.load_state_dict(ckpt[\"model_state_dict\"])\n",
        "optimizer.load_state_dict(ckpt[\"optimizer_state_dict\"])\n",
        "start_epoch = ckpt[\"epoch\"]\n",
        "print(f\"🔄 Resumed from epoch {start_epoch}, last loss = {ckpt['loss']:.4f}\")"
      ],
      "metadata": {
        "id": "PoQzZU7Lkxmz"
      },
      "execution_count": null,
      "outputs": []
    }
  ]
}